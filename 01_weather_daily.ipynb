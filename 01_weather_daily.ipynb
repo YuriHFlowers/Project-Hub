{
 "cells": [
  {
   "cell_type": "code",
   "execution_count": 1,
   "metadata": {},
   "outputs": [],
   "source": [
    "import pandas as pd\n",
    "import numpy as np\n",
    "import matplotlib.pyplot as plt\n",
    "import seaborn as sns \n",
    "from datetime import datetime as dt"
   ]
  },
  {
   "cell_type": "code",
   "execution_count": 2,
   "metadata": {},
   "outputs": [],
   "source": [
    "# weather file local Network\n",
    "#df = pd.read_csv(r\"H:\\R&D\\Research\\Commerce local\\Data Analytics\\Flux piétons\\AFP WTS Tableau report\\Data\\last_wts_weather.csv\", sep=\",\")"
   ]
  },
  {
   "cell_type": "code",
   "execution_count": 3,
   "metadata": {},
   "outputs": [
    {
     "data": {
      "text/plain": [
       "(21814, 13)"
      ]
     },
     "execution_count": 3,
     "metadata": {},
     "output_type": "execute_result"
    }
   ],
   "source": [
    "df = pd.read_csv(r\"C:\\Users\\hub_stag6\\Documents\\Data\\last_wts_weather.csv\", sep=\",\")\n",
    "df.shape"
   ]
  },
  {
   "cell_type": "code",
   "execution_count": 4,
   "metadata": {},
   "outputs": [
    {
     "data": {
      "text/plain": [
       "373"
      ]
     },
     "execution_count": 4,
     "metadata": {},
     "output_type": "execute_result"
    }
   ],
   "source": [
    "# Number the days\n",
    "df.weather_date.nunique()"
   ]
  },
  {
   "cell_type": "code",
   "execution_count": 5,
   "metadata": {},
   "outputs": [],
   "source": [
    "# Split the 'Date' variable \n",
    "df[['date', 'time']] = df.weather_date.str.split(\" \", expand = True)\n",
    "# DateTime variable to sort the dataFrame by date\n",
    "df['date'] =  pd.to_datetime(df['date'], format=\"%d-%m-%y\")\n",
    "# Sort DataFrame by zone and date\n",
    "df=df.sort_values(by=['zone_id','date'])"
   ]
  },
  {
   "cell_type": "code",
   "execution_count": 6,
   "metadata": {},
   "outputs": [],
   "source": [
    "df.columns\n",
    "df = df.reindex(columns=['date', 'zone_id', 'weather_date', 'main', 'temperature',\n",
    "       'temperaturefeelslike', 'temperaturemin', 'temperaturemax', 'pressure',\n",
    "       'humidity', 'visibility', 'windspeed', 'rain', 'snow' ])"
   ]
  },
  {
   "cell_type": "markdown",
   "metadata": {},
   "source": [
    "## Drop duplicate rows"
   ]
  },
  {
   "cell_type": "code",
   "execution_count": 7,
   "metadata": {},
   "outputs": [
    {
     "data": {
      "text/plain": [
       "(13579, 14)"
      ]
     },
     "execution_count": 7,
     "metadata": {},
     "output_type": "execute_result"
    }
   ],
   "source": [
    "# Drop duplicate rows in place\n",
    "df.drop_duplicates(inplace=True)\n",
    "df = df.reset_index(drop=True)\n",
    "df.shape"
   ]
  },
  {
   "attachments": {},
   "cell_type": "markdown",
   "metadata": {},
   "source": [
    "## Average numerical variables per zone and day"
   ]
  },
  {
   "cell_type": "code",
   "execution_count": 8,
   "metadata": {},
   "outputs": [
    {
     "data": {
      "text/plain": [
       "['temperature',\n",
       " 'temperaturefeelslike',\n",
       " 'temperaturemin',\n",
       " 'temperaturemax',\n",
       " 'pressure',\n",
       " 'humidity',\n",
       " 'visibility',\n",
       " 'windspeed',\n",
       " 'rain',\n",
       " 'snow']"
      ]
     },
     "execution_count": 8,
     "metadata": {},
     "output_type": "execute_result"
    }
   ],
   "source": [
    "# Numerical variables\n",
    "col_float= [col for col in df if df[col].dtype in [np.dtype(t) for t in ('int', 'float')]]\n",
    "col_float"
   ]
  },
  {
   "cell_type": "code",
   "execution_count": 9,
   "metadata": {},
   "outputs": [
    {
     "name": "stdout",
     "output_type": "stream",
     "text": [
      "done\n",
      "done\n",
      "done\n",
      "done\n",
      "done\n",
      "done\n",
      "done\n",
      "done\n",
      "done\n",
      "done\n"
     ]
    }
   ],
   "source": [
    "for col in [col for col in df if df[col].dtype in [np.dtype(t) for t in ('int', 'float')]]:\n",
    "        #if type(df[col]) is float:\n",
    "        a= df.groupby(['date'])\n",
    "        df[col]=a[col].transform('mean')\n",
    "        print('done')"
   ]
  },
  {
   "cell_type": "code",
   "execution_count": 10,
   "metadata": {},
   "outputs": [
    {
     "data": {
      "text/plain": [
       "(389, 13)"
      ]
     },
     "execution_count": 10,
     "metadata": {},
     "output_type": "execute_result"
    }
   ],
   "source": [
    "# Weather per day\n",
    "del df['zone_id']\n",
    "# Drop duplicate rows in place\n",
    "df.drop_duplicates(inplace=True)\n",
    "df = df.reset_index(drop=True)\n",
    "df.shape"
   ]
  },
  {
   "cell_type": "code",
   "execution_count": 11,
   "metadata": {},
   "outputs": [
    {
     "data": {
      "text/plain": [
       "373"
      ]
     },
     "execution_count": 11,
     "metadata": {},
     "output_type": "execute_result"
    }
   ],
   "source": [
    "df.weather_date.nunique()"
   ]
  },
  {
   "cell_type": "code",
   "execution_count": 12,
   "metadata": {},
   "outputs": [
    {
     "data": {
      "text/plain": [
       "07-12-22 00:00:00    2\n",
       "25-12-21 00:00:00    2\n",
       "24-09-22 00:00:00    2\n",
       "19-06-22 00:00:00    2\n",
       "17-09-22 00:00:00    2\n",
       "                    ..\n",
       "29-11-22 00:00:00    1\n",
       "01-12-22 00:00:00    1\n",
       "02-12-22 00:00:00    1\n",
       "04-12-22 00:00:00    1\n",
       "05-06-22 00:00:00    1\n",
       "Name: weather_date, Length: 373, dtype: int64"
      ]
     },
     "execution_count": 12,
     "metadata": {},
     "output_type": "execute_result"
    }
   ],
   "source": [
    "df.weather_date.value_counts().sort_values(ascending=False)"
   ]
  },
  {
   "cell_type": "code",
   "execution_count": 13,
   "metadata": {},
   "outputs": [
    {
     "data": {
      "text/html": [
       "<div>\n",
       "<style scoped>\n",
       "    .dataframe tbody tr th:only-of-type {\n",
       "        vertical-align: middle;\n",
       "    }\n",
       "\n",
       "    .dataframe tbody tr th {\n",
       "        vertical-align: top;\n",
       "    }\n",
       "\n",
       "    .dataframe thead th {\n",
       "        text-align: right;\n",
       "    }\n",
       "</style>\n",
       "<table border=\"1\" class=\"dataframe\">\n",
       "  <thead>\n",
       "    <tr style=\"text-align: right;\">\n",
       "      <th></th>\n",
       "      <th>date</th>\n",
       "      <th>weather_date</th>\n",
       "      <th>main</th>\n",
       "      <th>temperature</th>\n",
       "      <th>temperaturefeelslike</th>\n",
       "      <th>temperaturemin</th>\n",
       "      <th>temperaturemax</th>\n",
       "      <th>pressure</th>\n",
       "      <th>humidity</th>\n",
       "      <th>visibility</th>\n",
       "      <th>windspeed</th>\n",
       "      <th>rain</th>\n",
       "      <th>snow</th>\n",
       "    </tr>\n",
       "  </thead>\n",
       "  <tbody>\n",
       "    <tr>\n",
       "      <th>22</th>\n",
       "      <td>2021-12-23</td>\n",
       "      <td>23-12-21 00:00:00</td>\n",
       "      <td>clear</td>\n",
       "      <td>2.684444</td>\n",
       "      <td>0.878611</td>\n",
       "      <td>-2.256111</td>\n",
       "      <td>7.954444</td>\n",
       "      <td>1011.338056</td>\n",
       "      <td>87.291944</td>\n",
       "      <td>7291.666667</td>\n",
       "      <td>5.54</td>\n",
       "      <td>0.164444</td>\n",
       "      <td>0.0</td>\n",
       "    </tr>\n",
       "    <tr>\n",
       "      <th>382</th>\n",
       "      <td>2021-12-23</td>\n",
       "      <td>23-12-21 00:00:00</td>\n",
       "      <td>clouds-overcast</td>\n",
       "      <td>2.684444</td>\n",
       "      <td>0.878611</td>\n",
       "      <td>-2.256111</td>\n",
       "      <td>7.954444</td>\n",
       "      <td>1011.338056</td>\n",
       "      <td>87.291944</td>\n",
       "      <td>7291.666667</td>\n",
       "      <td>5.54</td>\n",
       "      <td>0.164444</td>\n",
       "      <td>0.0</td>\n",
       "    </tr>\n",
       "  </tbody>\n",
       "</table>\n",
       "</div>"
      ],
      "text/plain": [
       "          date       weather_date             main  temperature  \\\n",
       "22  2021-12-23  23-12-21 00:00:00            clear     2.684444   \n",
       "382 2021-12-23  23-12-21 00:00:00  clouds-overcast     2.684444   \n",
       "\n",
       "     temperaturefeelslike  temperaturemin  temperaturemax     pressure  \\\n",
       "22               0.878611       -2.256111        7.954444  1011.338056   \n",
       "382              0.878611       -2.256111        7.954444  1011.338056   \n",
       "\n",
       "      humidity   visibility  windspeed      rain  snow  \n",
       "22   87.291944  7291.666667       5.54  0.164444   0.0  \n",
       "382  87.291944  7291.666667       5.54  0.164444   0.0  "
      ]
     },
     "execution_count": 13,
     "metadata": {},
     "output_type": "execute_result"
    }
   ],
   "source": [
    "#Example\n",
    "a=df[df['weather_date']=='23-12-21 00:00:00']\n",
    "a"
   ]
  },
  {
   "cell_type": "code",
   "execution_count": 14,
   "metadata": {},
   "outputs": [
    {
     "data": {
      "text/plain": [
       "clear                   196\n",
       "clouds-scattered         83\n",
       "clouds-overcast          75\n",
       "rain-light               16\n",
       "disturbed-visibility     14\n",
       "drizzle-light             3\n",
       "rain-extreme              2\n",
       "Name: main, dtype: int64"
      ]
     },
     "execution_count": 14,
     "metadata": {},
     "output_type": "execute_result"
    }
   ],
   "source": [
    "df.main.value_counts()"
   ]
  },
  {
   "cell_type": "code",
   "execution_count": 15,
   "metadata": {},
   "outputs": [],
   "source": [
    "# Delete duplicate rows based on specific columns \n",
    "# Delete the row if it is duplicted in all the variables except in the main variable,\n",
    "# keep last duplicate row\n",
    "df = df.drop_duplicates(subset=['date', 'weather_date', 'temperature', 'temperaturefeelslike',\n",
    "       'temperaturemin', 'temperaturemax', 'pressure', 'humidity',\n",
    "       'visibility', 'windspeed', 'rain', 'snow'], keep='last')\n"
   ]
  },
  {
   "cell_type": "code",
   "execution_count": 16,
   "metadata": {},
   "outputs": [
    {
     "data": {
      "text/html": [
       "<div>\n",
       "<style scoped>\n",
       "    .dataframe tbody tr th:only-of-type {\n",
       "        vertical-align: middle;\n",
       "    }\n",
       "\n",
       "    .dataframe tbody tr th {\n",
       "        vertical-align: top;\n",
       "    }\n",
       "\n",
       "    .dataframe thead th {\n",
       "        text-align: right;\n",
       "    }\n",
       "</style>\n",
       "<table border=\"1\" class=\"dataframe\">\n",
       "  <thead>\n",
       "    <tr style=\"text-align: right;\">\n",
       "      <th></th>\n",
       "      <th>date</th>\n",
       "      <th>weather_date</th>\n",
       "      <th>main</th>\n",
       "      <th>temperature</th>\n",
       "      <th>temperaturefeelslike</th>\n",
       "      <th>temperaturemin</th>\n",
       "      <th>temperaturemax</th>\n",
       "      <th>pressure</th>\n",
       "      <th>humidity</th>\n",
       "      <th>visibility</th>\n",
       "      <th>windspeed</th>\n",
       "      <th>rain</th>\n",
       "      <th>snow</th>\n",
       "    </tr>\n",
       "  </thead>\n",
       "  <tbody>\n",
       "    <tr>\n",
       "      <th>382</th>\n",
       "      <td>2021-12-23</td>\n",
       "      <td>23-12-21 00:00:00</td>\n",
       "      <td>clouds-overcast</td>\n",
       "      <td>2.684444</td>\n",
       "      <td>0.878611</td>\n",
       "      <td>-2.256111</td>\n",
       "      <td>7.954444</td>\n",
       "      <td>1011.338056</td>\n",
       "      <td>87.291944</td>\n",
       "      <td>7291.666667</td>\n",
       "      <td>5.54</td>\n",
       "      <td>0.164444</td>\n",
       "      <td>0.0</td>\n",
       "    </tr>\n",
       "  </tbody>\n",
       "</table>\n",
       "</div>"
      ],
      "text/plain": [
       "          date       weather_date             main  temperature  \\\n",
       "382 2021-12-23  23-12-21 00:00:00  clouds-overcast     2.684444   \n",
       "\n",
       "     temperaturefeelslike  temperaturemin  temperaturemax     pressure  \\\n",
       "382              0.878611       -2.256111        7.954444  1011.338056   \n",
       "\n",
       "      humidity   visibility  windspeed      rain  snow  \n",
       "382  87.291944  7291.666667       5.54  0.164444   0.0  "
      ]
     },
     "execution_count": 16,
     "metadata": {},
     "output_type": "execute_result"
    }
   ],
   "source": [
    "#Example\n",
    "a=df[df['weather_date']=='23-12-21 00:00:00']\n",
    "a"
   ]
  },
  {
   "cell_type": "code",
   "execution_count": 17,
   "metadata": {},
   "outputs": [
    {
     "data": {
      "text/plain": [
       "(373, 13)"
      ]
     },
     "execution_count": 17,
     "metadata": {},
     "output_type": "execute_result"
    }
   ],
   "source": [
    "df.shape"
   ]
  },
  {
   "cell_type": "code",
   "execution_count": 18,
   "metadata": {},
   "outputs": [],
   "source": [
    "# Sort DataFrame by date\n",
    "df=df.sort_values(by=['date'], ascending=True)\n",
    "df = df.reset_index(drop=True)"
   ]
  },
  {
   "cell_type": "code",
   "execution_count": 19,
   "metadata": {},
   "outputs": [],
   "source": [
    "#Save the DataFrame \n",
    "df.to_csv(\"./assets/weather_daily.csv\")"
   ]
  }
 ],
 "metadata": {
  "kernelspec": {
   "display_name": "Python 3.8.15 ('myPython38': conda)",
   "language": "python",
   "name": "python3"
  },
  "language_info": {
   "codemirror_mode": {
    "name": "ipython",
    "version": 3
   },
   "file_extension": ".py",
   "mimetype": "text/x-python",
   "name": "python",
   "nbconvert_exporter": "python",
   "pygments_lexer": "ipython3",
   "version": "3.8.15"
  },
  "orig_nbformat": 4,
  "vscode": {
   "interpreter": {
    "hash": "7b2bdea802a73bb5923ed00a6cfef59db98ec9a7cb655d499d25b2b01103aa15"
   }
  }
 },
 "nbformat": 4,
 "nbformat_minor": 2
}
